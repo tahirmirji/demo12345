{
 "cells": [
  {
   "cell_type": "code",
   "execution_count": null,
   "metadata": {},
   "outputs": [
    {
     "ename": "",
     "evalue": "",
     "output_type": "error",
     "traceback": [
      "\u001b[1;31mFailed to start the Kernel. \n",
      "\u001b[1;31mTraceback (most recent call last):\n",
      "\u001b[1;31m  File \"c:\\Users\\User\\.vscode\\extensions\\ms-toolsai.jupyter-2022.7.1102252217\\pythonFiles\\vscode_datascience_helpers\\jupyter_daemon.py\", line 158, in _start_notebook\n",
      "\u001b[1;31m    from notebook import notebookapp as app\n",
      "\u001b[1;31m  File \"c:\\ProgramData\\Anaconda3\\lib\\site-packages\\notebook\\notebookapp.py\", line 45, in <module>\n",
      "\u001b[1;31m    from jinja2 import Environment, FileSystemLoader\n",
      "\u001b[1;31m  File \"c:\\ProgramData\\Anaconda3\\lib\\site-packages\\jinja2\\__init__.py\", line 12, in <module>\n",
      "\u001b[1;31m    from .environment import Environment\n",
      "\u001b[1;31m  File \"c:\\ProgramData\\Anaconda3\\lib\\site-packages\\jinja2\\environment.py\", line 25, in <module>\n",
      "\u001b[1;31m    from .defaults import BLOCK_END_STRING\n",
      "\u001b[1;31m  File \"c:\\ProgramData\\Anaconda3\\lib\\site-packages\\jinja2\\defaults.py\", line 3, in <module>\n",
      "\u001b[1;31m    from .filters import FILTERS as DEFAULT_FILTERS  # noqa: F401\n",
      "\u001b[1;31m  File \"c:\\ProgramData\\Anaconda3\\lib\\site-packages\\jinja2\\filters.py\", line 13, in <module>\n",
      "\u001b[1;31m    from markupsafe import soft_unicode\n",
      "\u001b[1;31mImportError: cannot import name 'soft_unicode' from 'markupsafe' (C:\\Users\\User\\AppData\\Roaming\\Python\\Python38\\site-packages\\markupsafe\\__init__.py)\n",
      "\u001b[1;31m\n",
      "\u001b[1;31mDuring handling of the above exception, another exception occurred:\n",
      "\u001b[1;31m\n",
      "\u001b[1;31mTraceback (most recent call last):\n",
      "\u001b[1;31m  File \"c:\\Users\\User\\.vscode\\extensions\\ms-toolsai.jupyter-2022.7.1102252217\\pythonFiles\\vscode_datascience_helpers\\daemon\\daemon_python.py\", line 54, in _decorator\n",
      "\u001b[1;31m    return func(self, *args, **kwargs)\n",
      "\u001b[1;31m  File \"c:\\Users\\User\\.vscode\\extensions\\ms-toolsai.jupyter-2022.7.1102252217\\pythonFiles\\vscode_datascience_helpers\\jupyter_daemon.py\", line 111, in m_exec_module_observable\n",
      "\u001b[1;31m    self._start_notebook(args, cwd, env)\n",
      "\u001b[1;31m  File \"c:\\Users\\User\\.vscode\\extensions\\ms-toolsai.jupyter-2022.7.1102252217\\pythonFiles\\vscode_datascience_helpers\\jupyter_daemon.py\", line 160, in _start_notebook\n",
      "\u001b[1;31m    from notebook import app as app\n",
      "\u001b[1;31mImportError: cannot import name 'app' from 'notebook' (c:\\ProgramData\\Anaconda3\\lib\\site-packages\\notebook\\__init__.py)\n",
      "\u001b[1;31m\n",
      "\u001b[1;31mFailed to run jupyter as observable with args notebook --no-browser --notebook-dir=\"c:\\\\Users\\\\User\\\\Desktop\\\\demo12345\" --config=c:\\Users\\User\\AppData\\Local\\Temp\\2d76d70f-fc32-4238-8385-22f1e8ea30ab\\jupyter_notebook_config.py --NotebookApp.iopub_data_rate_limit=10000000000.0. \n",
      "View Jupyter <a href='command:jupyter.viewOutput'>log</a> for further details."
     ]
    }
   ],
   "source": [
    "print(\"Hello\")"
   ]
  },
  {
   "cell_type": "code",
   "execution_count": null,
   "metadata": {},
   "outputs": [
    {
     "ename": "",
     "evalue": "",
     "output_type": "error",
     "traceback": [
      "\u001b[1;31mFailed to start the Kernel. \n",
      "\u001b[1;31mTraceback (most recent call last):\n",
      "\u001b[1;31m  File \"c:\\Users\\User\\.vscode\\extensions\\ms-toolsai.jupyter-2022.7.1102252217\\pythonFiles\\vscode_datascience_helpers\\jupyter_daemon.py\", line 158, in _start_notebook\n",
      "\u001b[1;31m    from notebook import notebookapp as app\n",
      "\u001b[1;31m  File \"c:\\ProgramData\\Anaconda3\\lib\\site-packages\\notebook\\notebookapp.py\", line 45, in <module>\n",
      "\u001b[1;31m    from jinja2 import Environment, FileSystemLoader\n",
      "\u001b[1;31m  File \"c:\\ProgramData\\Anaconda3\\lib\\site-packages\\jinja2\\__init__.py\", line 12, in <module>\n",
      "\u001b[1;31m    from .environment import Environment\n",
      "\u001b[1;31m  File \"c:\\ProgramData\\Anaconda3\\lib\\site-packages\\jinja2\\environment.py\", line 25, in <module>\n",
      "\u001b[1;31m    from .defaults import BLOCK_END_STRING\n",
      "\u001b[1;31m  File \"c:\\ProgramData\\Anaconda3\\lib\\site-packages\\jinja2\\defaults.py\", line 3, in <module>\n",
      "\u001b[1;31m    from .filters import FILTERS as DEFAULT_FILTERS  # noqa: F401\n",
      "\u001b[1;31m  File \"c:\\ProgramData\\Anaconda3\\lib\\site-packages\\jinja2\\filters.py\", line 13, in <module>\n",
      "\u001b[1;31m    from markupsafe import soft_unicode\n",
      "\u001b[1;31mImportError: cannot import name 'soft_unicode' from 'markupsafe' (C:\\Users\\User\\AppData\\Roaming\\Python\\Python38\\site-packages\\markupsafe\\__init__.py)\n",
      "\u001b[1;31m\n",
      "\u001b[1;31mDuring handling of the above exception, another exception occurred:\n",
      "\u001b[1;31m\n",
      "\u001b[1;31mTraceback (most recent call last):\n",
      "\u001b[1;31m  File \"c:\\Users\\User\\.vscode\\extensions\\ms-toolsai.jupyter-2022.7.1102252217\\pythonFiles\\vscode_datascience_helpers\\daemon\\daemon_python.py\", line 54, in _decorator\n",
      "\u001b[1;31m    return func(self, *args, **kwargs)\n",
      "\u001b[1;31m  File \"c:\\Users\\User\\.vscode\\extensions\\ms-toolsai.jupyter-2022.7.1102252217\\pythonFiles\\vscode_datascience_helpers\\jupyter_daemon.py\", line 111, in m_exec_module_observable\n",
      "\u001b[1;31m    self._start_notebook(args, cwd, env)\n",
      "\u001b[1;31m  File \"c:\\Users\\User\\.vscode\\extensions\\ms-toolsai.jupyter-2022.7.1102252217\\pythonFiles\\vscode_datascience_helpers\\jupyter_daemon.py\", line 160, in _start_notebook\n",
      "\u001b[1;31m    from notebook import app as app\n",
      "\u001b[1;31mImportError: cannot import name 'app' from 'notebook' (c:\\ProgramData\\Anaconda3\\lib\\site-packages\\notebook\\__init__.py)\n",
      "\u001b[1;31m\n",
      "\u001b[1;31mFailed to run jupyter as observable with args notebook --no-browser --notebook-dir=\"c:\\\\Users\\\\User\\\\Desktop\\\\demo12345\" --config=c:\\Users\\User\\AppData\\Local\\Temp\\4bb77286-54ad-42fc-be5f-33ae219d8cd2\\jupyter_notebook_config.py --NotebookApp.iopub_data_rate_limit=10000000000.0. \n",
      "View Jupyter <a href='command:jupyter.viewOutput'>log</a> for further details."
     ]
    }
   ],
   "source": [
    "print(\"Hello1234\")"
   ]
  }
 ],
 "metadata": {
  "kernelspec": {
   "display_name": "Python 3.8.5 ('base')",
   "language": "python",
   "name": "python3"
  },
  "language_info": {
   "name": "python",
   "version": "3.8.5"
  },
  "orig_nbformat": 4,
  "vscode": {
   "interpreter": {
    "hash": "ad2bdc8ecc057115af97d19610ffacc2b4e99fae6737bb82f5d7fb13d2f2c186"
   }
  }
 },
 "nbformat": 4,
 "nbformat_minor": 2
}
